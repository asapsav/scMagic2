{
 "cells": [
  {
   "cell_type": "code",
   "execution_count": 8,
   "metadata": {},
   "outputs": [],
   "source": [
    "import chromadb\n",
    "from chromadb.utils.embedding_functions import OpenAIEmbeddingFunction"
   ]
  },
  {
   "cell_type": "code",
   "execution_count": 2,
   "metadata": {},
   "outputs": [],
   "source": [
    "# Create Vector DB\n",
    "def get_vector_db(df):\n",
    "\n",
    "    # Uncomment for persistent client\n",
    "    chroma_client = chromadb.PersistentClient()\n",
    "\n",
    "    EMBEDDING_MODEL = \"text-embedding-ada-002\"\n",
    "    # change this to biotech specialised model later\n",
    "    embedding_function = OpenAIEmbeddingFunction(api_key=os.getenv(\"OPENAI_API_KEY\"), model_name=EMBEDDING_MODEL)\n",
    "    scrnatools_description_collection = chroma_client.create_collection(name='scRNA_Tools', embedding_function=embedding_function)\n",
    "\n",
    "    # Add the content vectors\n",
    "    scrnatools_description_collection.add(\n",
    "        documents = list(df['extented_desc']),\n",
    "        metadatas = df.drop(['extented_desc'], axis = 1).to_dict(orient='records'),\n",
    "        ids = list(df.Name)\n",
    "    )\n",
    "\n",
    "    scrnatools_description_collection.add(\n",
    "        documents = list(df['extented_desc_readme_trim']),\n",
    "        metadatas = df.drop(['extented_desc_readme_trim'], axis = 1).to_dict(orient='records'),\n",
    "        ids = list(df.Name))\n",
    "    \n",
    "    return scrnatools_description_collection"
   ]
  },
  {
   "cell_type": "code",
   "execution_count": 4,
   "metadata": {},
   "outputs": [
    {
     "data": {
      "text/plain": [
       "True"
      ]
     },
     "execution_count": 4,
     "metadata": {},
     "output_type": "execute_result"
    }
   ],
   "source": [
    "import pandas as pd\n",
    "import os\n",
    "import dotenv\n",
    "dotenv.load_dotenv()"
   ]
  },
  {
   "cell_type": "code",
   "execution_count": 5,
   "metadata": {},
   "outputs": [],
   "source": [
    "df_eariched = pd.read_csv('dataframes/tool-table-with-readmes.csv')"
   ]
  },
  {
   "cell_type": "code",
   "execution_count": null,
   "metadata": {},
   "outputs": [],
   "source": [
    "scrnatools_description_collection = get_vector_db(df_eariched)"
   ]
  },
  {
   "cell_type": "code",
   "execution_count": 14,
   "metadata": {},
   "outputs": [
    {
     "data": {
      "text/plain": [
       "Collection(name=scRNA_Tools)"
      ]
     },
     "execution_count": 14,
     "metadata": {},
     "output_type": "execute_result"
    }
   ],
   "source": [
    "scrnatools_description_collection"
   ]
  },
  {
   "cell_type": "code",
   "execution_count": 15,
   "metadata": {},
   "outputs": [],
   "source": [
    "# Query DB\n",
    "def query_collection(collection, query, max_results, dataframe):\n",
    "    results = collection.query(query_texts=query, n_results=max_results, include=['distances'])\n",
    "    result = pd.DataFrame({\n",
    "                'id':results['ids'][0],\n",
    "                'score':results['distances'][0],\n",
    "                'content': dataframe[dataframe.Name.isin(results['ids'][0])]['extented_desc'],\n",
    "                'platform': dataframe[dataframe.Name.isin(results['ids'][0])]['Platform'],\n",
    "                })\n",
    "\n",
    "    return result"
   ]
  },
  {
   "cell_type": "code",
   "execution_count": 16,
   "metadata": {},
   "outputs": [
    {
     "data": {
      "text/html": [
       "<div>\n",
       "<style scoped>\n",
       "    .dataframe tbody tr th:only-of-type {\n",
       "        vertical-align: middle;\n",
       "    }\n",
       "\n",
       "    .dataframe tbody tr th {\n",
       "        vertical-align: top;\n",
       "    }\n",
       "\n",
       "    .dataframe thead th {\n",
       "        text-align: right;\n",
       "    }\n",
       "</style>\n",
       "<table border=\"1\" class=\"dataframe\">\n",
       "  <thead>\n",
       "    <tr style=\"text-align: right;\">\n",
       "      <th></th>\n",
       "      <th>id</th>\n",
       "      <th>score</th>\n",
       "      <th>content</th>\n",
       "      <th>platform</th>\n",
       "    </tr>\n",
       "  </thead>\n",
       "  <tbody>\n",
       "    <tr>\n",
       "      <th>964</th>\n",
       "      <td>scAMACE_py</td>\n",
       "      <td>0.382842</td>\n",
       "      <td>Platform: Python\\n Description: Python impleme...</td>\n",
       "      <td>Python</td>\n",
       "    </tr>\n",
       "    <tr>\n",
       "      <th>1465</th>\n",
       "      <td>uniPort</td>\n",
       "      <td>0.385923</td>\n",
       "      <td>Platform: Python\\n Description: A unified appr...</td>\n",
       "      <td>Python</td>\n",
       "    </tr>\n",
       "    <tr>\n",
       "      <th>1575</th>\n",
       "      <td>SpatialScope</td>\n",
       "      <td>0.397222</td>\n",
       "      <td>Platform: Python\\n Description: A unified comp...</td>\n",
       "      <td>Python</td>\n",
       "    </tr>\n",
       "  </tbody>\n",
       "</table>\n",
       "</div>"
      ],
      "text/plain": [
       "                id     score  \\\n",
       "964     scAMACE_py  0.382842   \n",
       "1465       uniPort  0.385923   \n",
       "1575  SpatialScope  0.397222   \n",
       "\n",
       "                                                content platform  \n",
       "964   Platform: Python\\n Description: Python impleme...   Python  \n",
       "1465  Platform: Python\\n Description: A unified appr...   Python  \n",
       "1575  Platform: Python\\n Description: A unified comp...   Python  "
      ]
     },
     "execution_count": 16,
     "metadata": {},
     "output_type": "execute_result"
    }
   ],
   "source": [
    "query_collection(scrnatools_description_collection, 'python', 3, df_eariched)"
   ]
  },
  {
   "cell_type": "code",
   "execution_count": null,
   "metadata": {},
   "outputs": [],
   "source": []
  }
 ],
 "metadata": {
  "kernelspec": {
   "display_name": "Python 3",
   "language": "python",
   "name": "python3"
  },
  "language_info": {
   "codemirror_mode": {
    "name": "ipython",
    "version": 3
   },
   "file_extension": ".py",
   "mimetype": "text/x-python",
   "name": "python",
   "nbconvert_exporter": "python",
   "pygments_lexer": "ipython3",
   "version": "3.11.6"
  },
  "orig_nbformat": 4
 },
 "nbformat": 4,
 "nbformat_minor": 2
}
